{
 "cells": [
  {
   "cell_type": "code",
   "execution_count": 1,
   "id": "d50d90d3",
   "metadata": {},
   "outputs": [],
   "source": [
    "# chain prompting "
   ]
  },
  {
   "cell_type": "markdown",
   "id": "2aaf0d91",
   "metadata": {},
   "source": [
    "Chain Prompting involves linking a series of prompts sequentially, where the output from one prompt serves as the input for the next"
   ]
  },
  {
   "cell_type": "markdown",
   "id": "283bc01b",
   "metadata": {},
   "source": [
    "steps : \n",
    "\n",
    "• Identify and extract relevant information from the generated response.\n",
    "\n",
    "\n",
    "•\tDevelop a new prompt using this extracted information, ensuring it builds upon the previous response.\n",
    "\n",
    "\n",
    "•\tContinue this process as necessary to reach the intended result.\n",
    "\n",
    "    "
   ]
  },
  {
   "cell_type": "code",
   "execution_count": null,
   "id": "775fbb2d",
   "metadata": {},
   "outputs": [],
   "source": [
    "from langchain import PromptTemplate , LLMChain\n",
    "from langchain.chat_models "
   ]
  },
  {
   "cell_type": "code",
   "execution_count": null,
   "id": "0eb773f4",
   "metadata": {},
   "outputs": [],
   "source": []
  },
  {
   "cell_type": "code",
   "execution_count": null,
   "id": "e1b1cb08",
   "metadata": {},
   "outputs": [],
   "source": []
  }
 ],
 "metadata": {
  "kernelspec": {
   "display_name": "Building-LLMs-for-Production",
   "language": "python",
   "name": "python3"
  },
  "language_info": {
   "codemirror_mode": {
    "name": "ipython",
    "version": 3
   },
   "file_extension": ".py",
   "mimetype": "text/x-python",
   "name": "python",
   "nbconvert_exporter": "python",
   "pygments_lexer": "ipython3",
   "version": "3.11.8"
  }
 },
 "nbformat": 4,
 "nbformat_minor": 5
}

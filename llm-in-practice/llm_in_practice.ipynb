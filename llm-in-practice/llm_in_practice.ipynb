{
 "cells": [
  {
   "cell_type": "markdown",
   "id": "c88b28a3",
   "metadata": {},
   "source": [
    "## 🎯 Improving LLM Accuracy: Tuning the Text Generation Parameters\n",
    "\n",
    "To enhance the performance and accuracy of Large Language Models (LLMs), fine-tuning text generation parameters is essential. Below is an overview of key parameters and how they impact the output:\n",
    "\n",
    "- **Temperature**: Controls randomness. Lower values (e.g., 0.2–0.5) make the output more deterministic and reproducible, while higher values generate more creative or diverse responses.\n",
    "\n",
    "- **Frequency Penalty**: Reduces the likelihood of repeated tokens. This results in more conservative and less redundant output.\n",
    "- **Presence Penalty**: Encourages the model to introduce new tokens that haven’t appeared before in the generated text, promoting novelty.\n",
    "- **Top-p (Nucleus Sampling)**: Limits the token selection to a subset of probable words whose cumulative probability is above a certain threshold (e.g., 0.9). This balances diversity and coherence in the response.\n",
    "\n",
    "Tuning these parameters allows for customization of model behavior depending on your use case—whether you need factual precision, creative storytelling, or controlled language generation.\n"
   ]
  },
  {
   "cell_type": "code",
   "execution_count": null,
   "id": "538ed792",
   "metadata": {},
   "outputs": [],
   "source": []
  },
  {
   "cell_type": "markdown",
   "id": "6f728199",
   "metadata": {},
   "source": [
    "Evaluation metrics  can be categories as  : \n",
    "intrinsic metrics :which are directly related to the training objective. A well-known intrinsic metric is perplexity.\n",
    "extrinsic metrics :evaluate performance across various downstream tasks and are not directly connected to the training objective. Popular examples of extrinsic metrics include benchmarking frameworks like GLUE, SuperGLUE, BIG-bench, HELM, and FLASK"
   ]
  },
  {
   "cell_type": "code",
   "execution_count": 2,
   "id": "3f1bf4e1",
   "metadata": {},
   "outputs": [
    {
     "name": "stdout",
     "output_type": "stream",
     "text": [
      "Fast language models enhance efficiency and productivity significantly every day always.\n"
     ]
    }
   ],
   "source": [
    "import os\n",
    "import openai \n",
    "from groq import Groq\n",
    "from dotenv import load_dotenv\n",
    "\n",
    "## load env \n",
    "load_dotenv() \n",
    "\n",
    "client = Groq(\n",
    "    api_key=os.getenv('Groq_key')\n",
    ")\n",
    "\n",
    "chat_completion = client.chat.completions.create(\n",
    "    messages=[\n",
    "        {\n",
    "            \"role\": \"user\",\n",
    "            \"content\": \"Explain the importance of fast language models in 12 wrods\",\n",
    "        }\n",
    "    ],\n",
    "    model=\"llama-3.3-70b-versatile\",\n",
    ")\n",
    "\n",
    "print(chat_completion.choices[0].message.content)"
   ]
  },
  {
   "cell_type": "code",
   "execution_count": 3,
   "id": "69605304",
   "metadata": {},
   "outputs": [],
   "source": [
    "from langchain import PromptTemplate, LLMChain \n",
    "from langchain_groq import ChatGroq\n"
   ]
  },
  {
   "cell_type": "code",
   "execution_count": 4,
   "id": "fa95b86e",
   "metadata": {},
   "outputs": [],
   "source": [
    "model_name= 'llama-3.3-70b-versatile'\n",
    "temperature  = 0 \n"
   ]
  },
  {
   "cell_type": "code",
   "execution_count": 5,
   "id": "2673de6b",
   "metadata": {},
   "outputs": [
    {
     "data": {
      "text/plain": [
       "ChatGroq(client=<groq.resources.chat.completions.Completions object at 0x00000139BA45CC10>, async_client=<groq.resources.chat.completions.AsyncCompletions object at 0x00000139BA45D710>, model_name='llama-3.3-70b-versatile', temperature=1e-08, model_kwargs={}, groq_api_key=SecretStr('**********'))"
      ]
     },
     "execution_count": 5,
     "metadata": {},
     "output_type": "execute_result"
    }
   ],
   "source": [
    "from langchain_groq import ChatGroq\n",
    "\n",
    "llm = ChatGroq(\n",
    "    api_key= os.getenv('Groq_key'),\n",
    "    model=\"llama-3.3-70b-versatile\",\n",
    "    temperature=0,\n",
    "    \n",
    ")\n",
    "llm"
   ]
  },
  {
   "cell_type": "markdown",
   "id": "5d4b59fc",
   "metadata": {},
   "source": [
    "## Chaining Prompts"
   ]
  },
  {
   "cell_type": "code",
   "execution_count": 6,
   "id": "2741db08",
   "metadata": {},
   "outputs": [],
   "source": [
    "#prompt 1 \n",
    "template_question = \"\"\" what is the name of the famous scientis who develop the theory of genral reltivity?\n",
    "answer: \"\"\"\n",
    "\n",
    "prompt_question= PromptTemplate(template= template_question , input_variable = [] )"
   ]
  },
  {
   "cell_type": "code",
   "execution_count": 7,
   "id": "b10e8d1a",
   "metadata": {},
   "outputs": [],
   "source": [
    "#prompt 2\n",
    "template_fact= \"\"\"provide a breif description of {scientist}'s theory of general relativity\n",
    "answer\"\"\"\n",
    "\n",
    "prompt_fact= PromptTemplate(template =template_fact , input_variable= ['scientist'])\n"
   ]
  },
  {
   "cell_type": "code",
   "execution_count": 8,
   "id": "7a3d2e50",
   "metadata": {},
   "outputs": [
    {
     "name": "stderr",
     "output_type": "stream",
     "text": [
      "C:\\Users\\ujjwal\\AppData\\Local\\Temp\\ipykernel_4600\\2066001754.py:2: LangChainDeprecationWarning: The class `LLMChain` was deprecated in LangChain 0.1.17 and will be removed in 1.0. Use :meth:`~RunnableSequence, e.g., `prompt | llm`` instead.\n",
      "  chain_question = LLMChain(llm= llm ,\n"
     ]
    }
   ],
   "source": [
    "## create llm chain for the first prompt with an empty dictionary \n",
    "chain_question = LLMChain(llm= llm , \n",
    "                          prompt= prompt_question )"
   ]
  },
  {
   "cell_type": "code",
   "execution_count": 9,
   "id": "bfa62f4c",
   "metadata": {},
   "outputs": [
    {
     "name": "stderr",
     "output_type": "stream",
     "text": [
      "C:\\Users\\ujjwal\\AppData\\Local\\Temp\\ipykernel_4600\\2018729965.py:2: LangChainDeprecationWarning: The method `Chain.run` was deprecated in langchain 0.1.0 and will be removed in 1.0. Use :meth:`~invoke` instead.\n",
      "  response_question= chain_question.run({})\n"
     ]
    }
   ],
   "source": [
    "# run the llm chain for the first time with any empt dictionary \n",
    "response_question= chain_question.run({})"
   ]
  },
  {
   "cell_type": "code",
   "execution_count": 10,
   "id": "8c0a9b64",
   "metadata": {},
   "outputs": [
    {
     "data": {
      "text/plain": [
       "'The famous scientist who developed the theory of General Relativity is **Albert Einstein**.'"
      ]
     },
     "execution_count": 10,
     "metadata": {},
     "output_type": "execute_result"
    }
   ],
   "source": [
    "response_question\n"
   ]
  },
  {
   "cell_type": "code",
   "execution_count": 11,
   "id": "28c00027",
   "metadata": {},
   "outputs": [
    {
     "data": {
      "text/plain": [
       "LLMChain(verbose=False, prompt=PromptTemplate(input_variables=['scientist'], input_types={}, partial_variables={}, template=\"provide a breif description of {scientist}'s theory of general relativity\\nanswer\"), llm=ChatGroq(client=<groq.resources.chat.completions.Completions object at 0x00000139BA45CC10>, async_client=<groq.resources.chat.completions.AsyncCompletions object at 0x00000139BA45D710>, model_name='llama-3.3-70b-versatile', temperature=1e-08, model_kwargs={}, groq_api_key=SecretStr('**********')), output_parser=StrOutputParser(), llm_kwargs={})"
      ]
     },
     "execution_count": 11,
     "metadata": {},
     "output_type": "execute_result"
    }
   ],
   "source": [
    "\n",
    "chain_fact=LLMChain(llm= llm , \n",
    "         prompt= prompt_fact)\n",
    "chain_fact"
   ]
  },
  {
   "cell_type": "code",
   "execution_count": 12,
   "id": "fbb9ced2",
   "metadata": {},
   "outputs": [],
   "source": [
    "## input for second prompt \n",
    "input_data = {'scientist': 'scientist'} "
   ]
  },
  {
   "cell_type": "code",
   "execution_count": 13,
   "id": "17c03533",
   "metadata": {},
   "outputs": [
    {
     "data": {
      "text/plain": [
       "\"It seems like you provided a Python object reference instead of a person's name. However, I'll assume you meant to ask about Albert Einstein's theory of general relativity, as he is the one who developed it.\\n\\nAlbert Einstein's theory of general relativity, introduced in 1915, revolutionized our understanding of gravity, space, and time. The core idea is that gravity is not a force between objects, but rather a curvature of spacetime caused by massive objects. According to this theory:\\n\\n1. **Spacetime is curved**: Massive objects, such as planets and stars, warp the fabric of spacetime around them, creating a gravitational field.\\n2. **Gravity is geometry**: The curvature of spacetime affects the motion of objects, which follow geodesic paths (shortest paths possible in curved spacetime).\\n3. **Equivalence principle**: The effects of gravity are equivalent to the effects of acceleration, meaning that an observer in a gravitational field will experience the same effects as an observer who is accelerating.\\n\\nThis theory predicted phenomena such as:\\n\\n* Gravitational waves\\n* Black holes\\n* Gravitational lensing\\n* Time dilation\\n\\nEinstein's theory of general relativity has been extensively tested and confirmed through numerous experiments and observations, and it remains a fundamental cornerstone of modern physics.\""
      ]
     },
     "execution_count": 13,
     "metadata": {},
     "output_type": "execute_result"
    }
   ],
   "source": [
    "chain_fact.run(input)"
   ]
  },
  {
   "cell_type": "code",
   "execution_count": 14,
   "id": "8115690b",
   "metadata": {},
   "outputs": [
    {
     "name": "stdout",
     "output_type": "stream",
     "text": [
      "**Albert Einstein's Theory of General Relativity:**\n",
      "\n",
      "In 1915, Albert Einstein introduced the Theory of General Relativity, which revolutionized our understanding of gravity, space, and time. The theory states that:\n",
      "\n",
      "* **Gravity is not a force**, but rather the curvature of spacetime caused by massive objects.\n",
      "* **Mass and energy warp spacetime**, creating a gravitational field that affects the motion of other objects.\n",
      "* **Spacetime is dynamic**, with gravity being the result of this curvature, rather than a force acting between objects.\n",
      "\n",
      "In essence, General Relativity describes the universe as a four-dimensional fabric, where gravity is the result of geometric curvature, rather than a force that acts across space. This theory predicted phenomena such as gravitational waves, black holes, and the bending of light around massive objects, which have since been confirmed by numerous experiments and observations.\n"
     ]
    }
   ],
   "source": [
    "response_fact= chain_fact.run(input_data).strip()\n",
    "print(response_fact)"
   ]
  },
  {
   "cell_type": "markdown",
   "id": "6fc7cea8",
   "metadata": {},
   "source": [
    "## langchain key concepts and components\n"
   ]
  },
  {
   "cell_type": "code",
   "execution_count": 15,
   "id": "7030b5fb",
   "metadata": {},
   "outputs": [
    {
     "data": {
      "text/plain": [
       "'what is the good name for the company who makes smartphoes'"
      ]
     },
     "execution_count": 15,
     "metadata": {},
     "output_type": "execute_result"
    }
   ],
   "source": [
    "from langchain.prompts  import PromptTemplate \n",
    "template = \"\"\"what is the good name for the company who makes {product}\"\"\"\n",
    "\n",
    "prompt = PromptTemplate.from_template(template = template )\n",
    "formatted_prompts = prompt.format(product='smartphoes')\n",
    "formatted_prompts"
   ]
  },
  {
   "cell_type": "code",
   "execution_count": 16,
   "id": "37554ffe",
   "metadata": {},
   "outputs": [],
   "source": [
    "##### output parser \n",
    "## to format and extract Structured output fom raw LLM response \n"
   ]
  },
  {
   "cell_type": "markdown",
   "id": "77a2504b",
   "metadata": {},
   "source": [
    "•\tOutput Parsers: Output parsers are classes that help structure language model responses. They are responsible for taking the output of an LLM and transforming it into a more suitable format."
   ]
  },
  {
   "cell_type": "code",
   "execution_count": 17,
   "id": "806a2e90",
   "metadata": {},
   "outputs": [
    {
     "data": {
      "text/plain": [
       "['apple ', 'banana ', 'oranges']"
      ]
     },
     "execution_count": 17,
     "metadata": {},
     "output_type": "execute_result"
    }
   ],
   "source": [
    "from langchain.output_parsers import CommaSeparatedListOutputParser \n",
    "parser = CommaSeparatedListOutputParser()\n",
    "output = parser.parse(\"apple , banana , oranges\")\n",
    "output"
   ]
  },
  {
   "cell_type": "code",
   "execution_count": 19,
   "id": "4413c190",
   "metadata": {},
   "outputs": [],
   "source": [
    "\n",
    "from langchain.vectorstores import FAISS \n",
    "from langchain.docstore.document import Document \n",
    "\n",
    "doc = [\n",
    "    Document(page_content= \"my name is ujjwal basnet\"),\n",
    "    Document(page_content= \"I am also known as water\")    \n",
    "]\n",
    "\n"
   ]
  },
  {
   "cell_type": "code",
   "execution_count": 20,
   "id": "f426d900",
   "metadata": {},
   "outputs": [],
   "source": [
    "from dotenv import load_dotenv\n",
    "import os \n",
    "#load env \n",
    "load_dotenv()\n",
    "\n",
    "api= os.getenv('COHERE_key')"
   ]
  },
  {
   "cell_type": "code",
   "execution_count": 21,
   "id": "f81483fb",
   "metadata": {},
   "outputs": [],
   "source": [
    "phrases  = [\"my name is ujjwal basnet, I am also known as water \"]"
   ]
  },
  {
   "cell_type": "code",
   "execution_count": 22,
   "id": "2bfcbfef",
   "metadata": {},
   "outputs": [
    {
     "data": {
      "text/plain": [
       "[-0.03491211,\n",
       " 0.00020599365,\n",
       " 0.018188477,\n",
       " 0.019897461,\n",
       " 0.05029297,\n",
       " -0.044189453,\n",
       " 0.036376953,\n",
       " -0.011352539,\n",
       " -0.05810547,\n",
       " -0.008239746,\n",
       " -0.024780273,\n",
       " 0.011779785,\n",
       " -0.0040893555,\n",
       " -0.029785156,\n",
       " -8.165836e-06,\n",
       " -0.004058838,\n",
       " -0.007873535,\n",
       " 0.030761719,\n",
       " 0.016113281,\n",
       " -0.017578125,\n",
       " -0.026367188,\n",
       " 0.0050964355,\n",
       " -0.025146484,\n",
       " -0.05908203,\n",
       " -0.007385254,\n",
       " 0.063964844,\n",
       " -0.010131836,\n",
       " -0.012451172,\n",
       " -0.045898438,\n",
       " -0.0021972656,\n",
       " 0.0014801025,\n",
       " -0.012207031,\n",
       " 0.009216309,\n",
       " 0.00982666,\n",
       " -0.011779785,\n",
       " 0.016113281,\n",
       " 0.003540039,\n",
       " -0.0029144287,\n",
       " -0.004638672,\n",
       " -0.013793945,\n",
       " -0.00982666,\n",
       " 0.025634766,\n",
       " -0.005645752,\n",
       " 0.017944336,\n",
       " -0.007446289,\n",
       " -0.016113281,\n",
       " -0.0049743652,\n",
       " -0.010925293,\n",
       " 0.016235352,\n",
       " 0.0011062622,\n",
       " 0.029785156,\n",
       " 0.00793457,\n",
       " -0.009094238,\n",
       " -0.0054016113,\n",
       " 0.061523438,\n",
       " 0.019897461,\n",
       " 0.017944336,\n",
       " 0.013916016,\n",
       " -0.010009766,\n",
       " 0.0048828125,\n",
       " -0.01928711,\n",
       " 0.033203125,\n",
       " -0.019897461,\n",
       " -0.0067749023,\n",
       " -0.06689453,\n",
       " 0.014221191,\n",
       " 0.0015258789,\n",
       " 0.04711914,\n",
       " 0.05517578,\n",
       " -0.03466797,\n",
       " -0.00592041,\n",
       " 0.024414062,\n",
       " -0.012268066,\n",
       " 0.011779785,\n",
       " 0.012268066,\n",
       " -0.009399414,\n",
       " -0.00028038025,\n",
       " -0.04272461,\n",
       " -0.025146484,\n",
       " 0.018798828,\n",
       " -0.006958008,\n",
       " -0.025512695,\n",
       " 0.03149414,\n",
       " 0.010986328,\n",
       " 0.009155273,\n",
       " 0.013427734,\n",
       " 0.0047302246,\n",
       " 0.021118164,\n",
       " -0.05029297,\n",
       " 0.033203125,\n",
       " 0.009521484,\n",
       " -0.035888672,\n",
       " -0.03100586,\n",
       " 0.040527344,\n",
       " -0.0018844604,\n",
       " -0.031982422,\n",
       " 0.008178711,\n",
       " 0.018554688,\n",
       " -0.07421875,\n",
       " 0.0037384033,\n",
       " -0.01184082,\n",
       " -0.029174805,\n",
       " 0.011413574,\n",
       " 0.033203125,\n",
       " -0.03515625,\n",
       " -0.020141602,\n",
       " -0.061279297,\n",
       " 0.0068969727,\n",
       " 0.0063171387,\n",
       " 0.006378174,\n",
       " -0.00045967102,\n",
       " 0.056152344,\n",
       " -0.017211914,\n",
       " -0.026123047,\n",
       " -7.581711e-05,\n",
       " 0.012084961,\n",
       " 0.024414062,\n",
       " 0.03857422,\n",
       " 0.041015625,\n",
       " 0.021240234,\n",
       " 0.032226562,\n",
       " -0.026000977,\n",
       " -0.030395508,\n",
       " -0.055908203,\n",
       " -0.022583008,\n",
       " -0.088378906,\n",
       " 0.052246094,\n",
       " -0.020751953,\n",
       " 0.012084961,\n",
       " -0.034179688,\n",
       " -0.026855469,\n",
       " -0.0859375,\n",
       " 0.0012435913,\n",
       " 0.004638672,\n",
       " 0.04296875,\n",
       " -0.0079956055,\n",
       " -0.011291504,\n",
       " 0.0061035156,\n",
       " 0.003967285,\n",
       " 0.0055236816,\n",
       " -0.057617188,\n",
       " 0.032958984,\n",
       " -0.09423828,\n",
       " -0.013061523,\n",
       " -0.0075683594,\n",
       " 0.0046081543,\n",
       " 0.0063171387,\n",
       " 0.021362305,\n",
       " -0.0006866455,\n",
       " 0.0119018555,\n",
       " -0.063964844,\n",
       " -0.003829956,\n",
       " 0.010437012,\n",
       " 0.0076904297,\n",
       " -0.014526367,\n",
       " -0.040527344,\n",
       " -0.010375977,\n",
       " 0.041992188,\n",
       " 0.029052734,\n",
       " -0.024169922,\n",
       " 0.024780273,\n",
       " -0.033691406,\n",
       " -0.0041503906,\n",
       " -0.0018692017,\n",
       " 0.022705078,\n",
       " -0.0031433105,\n",
       " 0.0075683594,\n",
       " -0.028320312,\n",
       " -0.06689453,\n",
       " -0.018798828,\n",
       " -0.044433594,\n",
       " 0.059814453,\n",
       " 0.016235352,\n",
       " -0.0036773682,\n",
       " 0.024047852,\n",
       " 0.00390625,\n",
       " 0.015991211,\n",
       " 0.020263672,\n",
       " -0.091308594,\n",
       " 0.055908203,\n",
       " 0.030639648,\n",
       " 0.01159668,\n",
       " 0.03112793,\n",
       " -0.07470703,\n",
       " -0.013977051,\n",
       " 0.053466797,\n",
       " -0.045654297,\n",
       " 0.026123047,\n",
       " -0.032958984,\n",
       " 0.055908203,\n",
       " 0.038330078,\n",
       " -0.048095703,\n",
       " -0.03100586,\n",
       " 0.030761719,\n",
       " -0.01586914,\n",
       " 0.00793457,\n",
       " 0.020751953,\n",
       " -0.04736328,\n",
       " -0.0069885254,\n",
       " 0.014221191,\n",
       " -0.0028533936,\n",
       " -0.026000977,\n",
       " 0.026489258,\n",
       " -0.03491211,\n",
       " -0.04638672,\n",
       " 0.017333984,\n",
       " 0.028320312,\n",
       " -0.041748047,\n",
       " 0.012207031,\n",
       " 0.011291504,\n",
       " 0.0063171387,\n",
       " 0.016723633,\n",
       " -0.0019836426,\n",
       " -0.06640625,\n",
       " 0.021606445,\n",
       " -0.020019531,\n",
       " -0.030395508,\n",
       " -0.01574707,\n",
       " 0.008605957,\n",
       " -0.021972656,\n",
       " -0.03540039,\n",
       " 0.03173828,\n",
       " 0.02331543,\n",
       " 0.03515625,\n",
       " -0.000705719,\n",
       " -0.041259766,\n",
       " -0.04638672,\n",
       " 0.029174805,\n",
       " -0.033447266,\n",
       " 0.0043945312,\n",
       " -0.060791016,\n",
       " 0.03125,\n",
       " -0.042236328,\n",
       " 0.026489258,\n",
       " 0.008605957,\n",
       " -0.018432617,\n",
       " 0.047607422,\n",
       " 0.022827148,\n",
       " -0.022705078,\n",
       " -0.07128906,\n",
       " -0.020263672,\n",
       " 0.02709961,\n",
       " -0.0061035156,\n",
       " -0.022338867,\n",
       " -0.04248047,\n",
       " -0.022949219,\n",
       " 0.007659912,\n",
       " -0.018310547,\n",
       " -0.05053711,\n",
       " -0.014404297,\n",
       " -0.022583008,\n",
       " -0.056640625,\n",
       " 0.01550293,\n",
       " -0.02355957,\n",
       " 0.04321289,\n",
       " 0.0011291504,\n",
       " 0.049804688,\n",
       " 0.017700195,\n",
       " 0.007293701,\n",
       " -0.007446289,\n",
       " -0.028320312,\n",
       " 0.013244629,\n",
       " -0.012084961,\n",
       " -0.06225586,\n",
       " 0.048095703,\n",
       " 0.055664062,\n",
       " -0.045654297,\n",
       " 0.033691406,\n",
       " 0.0018844604,\n",
       " 0.013793945,\n",
       " -0.0043945312,\n",
       " -9.8228455e-05,\n",
       " 0.0049438477,\n",
       " -0.0022125244,\n",
       " -0.0060424805,\n",
       " 0.052001953,\n",
       " 0.014038086,\n",
       " -0.00060653687,\n",
       " -0.026000977,\n",
       " -0.0025634766,\n",
       " -0.03857422,\n",
       " -0.011779785,\n",
       " 0.0045166016,\n",
       " 0.091308594,\n",
       " -0.029907227,\n",
       " 0.022949219,\n",
       " 0.056152344,\n",
       " 0.0045166016,\n",
       " -0.034423828,\n",
       " -0.006286621,\n",
       " -0.0045166016,\n",
       " -0.00793457,\n",
       " -0.00030136108,\n",
       " -0.009033203,\n",
       " 0.030395508,\n",
       " -0.017578125,\n",
       " 0.064941406,\n",
       " -0.080078125,\n",
       " -0.032470703,\n",
       " -0.043701172,\n",
       " 0.020019531,\n",
       " 0.008056641,\n",
       " 0.035888672,\n",
       " -0.04248047,\n",
       " 0.020263672,\n",
       " -0.0052490234,\n",
       " -0.011779785,\n",
       " 0.024536133,\n",
       " 0.032958984,\n",
       " -0.014770508,\n",
       " 0.040283203,\n",
       " -0.017944336,\n",
       " 0.022827148,\n",
       " 0.007873535,\n",
       " 0.043701172,\n",
       " 0.0078125,\n",
       " -0.03173828,\n",
       " 0.018920898,\n",
       " -0.040527344,\n",
       " -0.057617188,\n",
       " 0.0012435913,\n",
       " -0.0119018555,\n",
       " 0.02319336,\n",
       " 0.035888672,\n",
       " -0.012817383,\n",
       " 0.04321289,\n",
       " 0.04711914,\n",
       " 0.029541016,\n",
       " 0.014404297,\n",
       " -0.014892578,\n",
       " 0.022094727,\n",
       " 0.0035858154,\n",
       " 0.014892578,\n",
       " 0.045898438,\n",
       " -0.02758789,\n",
       " -0.0024871826,\n",
       " 0.037353516,\n",
       " 0.064453125,\n",
       " 0.05126953,\n",
       " -0.022949219,\n",
       " -0.014221191,\n",
       " -0.057617188,\n",
       " -0.037109375,\n",
       " -0.083496094,\n",
       " -0.052978516,\n",
       " 0.052978516,\n",
       " -0.007659912,\n",
       " 0.00592041,\n",
       " 0.03955078,\n",
       " -0.012451172,\n",
       " 0.018920898,\n",
       " 0.0064697266,\n",
       " 0.03564453,\n",
       " 0.053466797,\n",
       " -0.06933594,\n",
       " 0.080566406,\n",
       " 0.013916016,\n",
       " 0.052246094,\n",
       " -0.053466797,\n",
       " 0.007751465,\n",
       " 0.014404297,\n",
       " -0.057617188,\n",
       " 0.00579834,\n",
       " 0.006011963,\n",
       " 0.01184082,\n",
       " 0.031982422,\n",
       " -0.0065307617,\n",
       " 0.03466797,\n",
       " -0.01361084,\n",
       " 0.041748047,\n",
       " -0.079589844,\n",
       " -0.024902344,\n",
       " 0.056884766,\n",
       " 0.027832031,\n",
       " 0.012634277,\n",
       " -0.024780273,\n",
       " 0.055664062,\n",
       " -0.028442383,\n",
       " 0.020141602,\n",
       " -0.0015792847,\n",
       " -0.072753906,\n",
       " -0.024414062,\n",
       " -0.001411438,\n",
       " 0.04711914,\n",
       " -0.035888672,\n",
       " 0.041503906,\n",
       " 0.010192871,\n",
       " -0.048339844,\n",
       " -0.021606445,\n",
       " 0.01184082,\n",
       " 0.052246094,\n",
       " 0.001335144,\n",
       " 0.059570312,\n",
       " -0.009460449,\n",
       " -0.025878906,\n",
       " -0.033447266,\n",
       " -0.0099487305,\n",
       " -0.018188477,\n",
       " 0.009338379,\n",
       " 0.05834961,\n",
       " 0.0043945312,\n",
       " -0.029174805,\n",
       " 0.052001953,\n",
       " -0.0014038086,\n",
       " 0.0059509277,\n",
       " 0.053710938,\n",
       " 0.04638672,\n",
       " 0.04711914,\n",
       " -0.039794922,\n",
       " -0.0018157959,\n",
       " 0.0046691895,\n",
       " 0.025512695,\n",
       " 0.060791016,\n",
       " -0.007171631,\n",
       " 0.023803711,\n",
       " -0.012451172,\n",
       " 0.0390625,\n",
       " -0.0024871826,\n",
       " 0.029907227,\n",
       " -0.071777344,\n",
       " -0.005065918,\n",
       " -0.026123047,\n",
       " -0.0075683594,\n",
       " -0.05883789,\n",
       " 0.032226562,\n",
       " -0.029541016,\n",
       " -0.017211914,\n",
       " -0.049072266,\n",
       " 0.0036773682,\n",
       " 0.0037384033,\n",
       " 0.014221191,\n",
       " -0.041015625,\n",
       " 0.010925293,\n",
       " -0.03466797,\n",
       " 0.018066406,\n",
       " 0.048095703,\n",
       " 0.036621094,\n",
       " 0.03149414,\n",
       " -0.030395508,\n",
       " 0.017578125,\n",
       " 0.021728516,\n",
       " 0.0054016113,\n",
       " -0.037109375,\n",
       " -0.0032958984,\n",
       " -0.028320312,\n",
       " -0.0087890625,\n",
       " -0.0625,\n",
       " -0.030151367,\n",
       " 0.008666992,\n",
       " -0.032958984,\n",
       " 0.011230469,\n",
       " 0.059814453,\n",
       " 0.022583008,\n",
       " -0.033691406,\n",
       " 0.022583008,\n",
       " 0.024902344,\n",
       " 0.04248047,\n",
       " -0.016357422,\n",
       " 0.0027313232,\n",
       " 0.032226562,\n",
       " 0.0022888184,\n",
       " 0.009460449,\n",
       " 0.0079956055,\n",
       " 0.044677734,\n",
       " -0.022338867,\n",
       " -0.001739502,\n",
       " 0.007873535,\n",
       " 0.005126953,\n",
       " -0.04663086,\n",
       " -0.04248047,\n",
       " 0.017333984,\n",
       " 0.01361084,\n",
       " -0.012573242,\n",
       " -0.049560547,\n",
       " 0.032714844,\n",
       " -0.033935547,\n",
       " -0.06982422,\n",
       " 0.030639648,\n",
       " 0.034423828,\n",
       " 0.024536133,\n",
       " 0.010925293,\n",
       " 0.079589844,\n",
       " -0.0035552979,\n",
       " 0.037109375,\n",
       " 0.048095703,\n",
       " -0.036621094,\n",
       " -0.013000488,\n",
       " -0.03930664,\n",
       " -0.011779785,\n",
       " -0.0005912781,\n",
       " -0.008117676,\n",
       " 0.004119873,\n",
       " 0.017211914,\n",
       " 0.018310547,\n",
       " 0.010192871,\n",
       " 0.029418945,\n",
       " -0.008178711,\n",
       " -0.022583008,\n",
       " 0.0068969727,\n",
       " -0.02368164,\n",
       " -0.003112793,\n",
       " -0.018554688,\n",
       " -0.008483887,\n",
       " -0.025268555,\n",
       " 0.014404297,\n",
       " -0.029907227,\n",
       " 0.02746582,\n",
       " -0.0053100586,\n",
       " 0.026733398,\n",
       " 0.018554688,\n",
       " 0.025878906,\n",
       " -0.05444336,\n",
       " 0.053710938,\n",
       " -0.06689453,\n",
       " -0.017333984,\n",
       " -0.003189087,\n",
       " -0.056640625,\n",
       " -0.036132812,\n",
       " 0.018920898,\n",
       " 0.0039978027,\n",
       " 0.017211914,\n",
       " 0.014770508,\n",
       " 0.036621094,\n",
       " -0.05834961,\n",
       " -0.0057373047,\n",
       " 0.056640625,\n",
       " 0.00592041,\n",
       " 0.008544922,\n",
       " -0.014709473,\n",
       " 0.024169922,\n",
       " -0.064453125,\n",
       " -0.02368164,\n",
       " 0.005340576,\n",
       " -0.028442383,\n",
       " -0.034179688,\n",
       " 0.030273438,\n",
       " 0.001914978,\n",
       " -0.019165039,\n",
       " 0.0011444092,\n",
       " 0.01928711,\n",
       " 0.00680542,\n",
       " 0.044433594,\n",
       " 0.022094727,\n",
       " -0.014404297,\n",
       " 0.10058594,\n",
       " -0.015197754,\n",
       " 0.0015716553,\n",
       " 0.05053711,\n",
       " 0.0013198853,\n",
       " 0.025268555,\n",
       " -0.032958984,\n",
       " -0.037597656,\n",
       " -0.026000977,\n",
       " 0.053710938,\n",
       " 0.030395508,\n",
       " -0.0058898926,\n",
       " -0.015563965,\n",
       " -0.033935547,\n",
       " 0.020507812,\n",
       " 0.119628906,\n",
       " 0.018554688,\n",
       " -0.052734375,\n",
       " 0.012817383,\n",
       " -0.0024871826,\n",
       " 0.00050354004,\n",
       " -0.016601562,\n",
       " -0.022583008,\n",
       " 0.011474609,\n",
       " 0.014770508,\n",
       " 0.0087890625,\n",
       " -0.02331543,\n",
       " 0.026123047,\n",
       " 0.059570312,\n",
       " -0.02746582,\n",
       " -0.010925293,\n",
       " 0.010986328,\n",
       " -0.016479492,\n",
       " 0.0390625,\n",
       " -0.009887695,\n",
       " 0.005706787,\n",
       " -0.05444336,\n",
       " 0.032470703,\n",
       " 0.029052734,\n",
       " -0.01550293,\n",
       " -0.018188477,\n",
       " -0.021240234,\n",
       " 0.022216797,\n",
       " -0.0023956299,\n",
       " 0.03100586,\n",
       " -0.06201172,\n",
       " 0.011291504,\n",
       " -0.030151367,\n",
       " -0.014953613,\n",
       " -0.05883789,\n",
       " 0.017089844,\n",
       " 0.04736328,\n",
       " 0.013977051,\n",
       " -0.016967773,\n",
       " 0.0074768066,\n",
       " -0.030761719,\n",
       " -0.049560547,\n",
       " 0.0048217773,\n",
       " -0.0013275146,\n",
       " 0.010803223,\n",
       " -0.020874023,\n",
       " -0.00340271,\n",
       " -0.01953125,\n",
       " -0.05908203,\n",
       " 0.03881836,\n",
       " 0.045898438,\n",
       " 0.02746582,\n",
       " 0.030151367,\n",
       " 0.0625,\n",
       " -0.0057373047,\n",
       " 0.006286621,\n",
       " 0.02746582,\n",
       " 0.016357422,\n",
       " 0.056884766,\n",
       " 0.005004883,\n",
       " -0.04638672,\n",
       " -0.056640625,\n",
       " 0.010925293,\n",
       " -0.02331543,\n",
       " -0.021606445,\n",
       " 0.036132812,\n",
       " -0.034179688,\n",
       " 0.021850586,\n",
       " -0.0021514893,\n",
       " -0.0016784668,\n",
       " 0.033203125,\n",
       " -0.01361084,\n",
       " 0.0058898926,\n",
       " -0.041748047,\n",
       " 0.014892578,\n",
       " 0.015991211,\n",
       " 0.022583008,\n",
       " 0.013916016,\n",
       " 0.032470703,\n",
       " -0.009155273,\n",
       " -0.01965332,\n",
       " -0.0087890625,\n",
       " 0.034179688,\n",
       " -0.0018005371,\n",
       " 0.020874023,\n",
       " 0.013061523,\n",
       " 0.026367188,\n",
       " 0.044921875,\n",
       " -0.004119873,\n",
       " 0.025146484,\n",
       " -0.012268066,\n",
       " 0.026123047,\n",
       " -0.016723633,\n",
       " -0.008056641,\n",
       " 0.03125,\n",
       " 0.012939453,\n",
       " -0.009643555,\n",
       " 0.055664062,\n",
       " -0.0039978027,\n",
       " -0.00024414062,\n",
       " -0.040039062,\n",
       " -0.028320312,\n",
       " -0.032226562,\n",
       " -0.012573242,\n",
       " -0.0087890625,\n",
       " 0.032714844,\n",
       " 0.016723633,\n",
       " -0.047607422,\n",
       " -0.027832031,\n",
       " 0.013183594,\n",
       " 0.08691406,\n",
       " 0.03955078,\n",
       " 0.013977051,\n",
       " 0.012207031,\n",
       " -0.014709473,\n",
       " 0.0017547607,\n",
       " 0.013427734,\n",
       " -0.010131836,\n",
       " 0.009765625,\n",
       " 0.07714844,\n",
       " 0.037109375,\n",
       " -0.0038909912,\n",
       " -0.043701172,\n",
       " 0.0119018555,\n",
       " 0.047607422,\n",
       " -0.021606445,\n",
       " -0.015625,\n",
       " 0.03491211,\n",
       " -0.026733398,\n",
       " 0.022827148,\n",
       " -0.05102539,\n",
       " -0.025146484,\n",
       " 0.05053711,\n",
       " 0.020385742,\n",
       " -0.017456055,\n",
       " 0.020385742,\n",
       " -0.014709473,\n",
       " 0.0028686523,\n",
       " 0.01586914,\n",
       " 0.023803711,\n",
       " 0.029785156,\n",
       " -0.022827148,\n",
       " 0.014770508,\n",
       " -0.022949219,\n",
       " -0.037353516,\n",
       " 0.0037994385,\n",
       " 0.061523438,\n",
       " 0.029541016,\n",
       " -0.018920898,\n",
       " -0.026489258,\n",
       " 0.017211914,\n",
       " 0.008483887,\n",
       " -0.002822876,\n",
       " -0.018432617,\n",
       " -0.049560547,\n",
       " -0.028442383,\n",
       " -0.035888672,\n",
       " 0.028686523,\n",
       " -0.011657715,\n",
       " -0.03112793,\n",
       " 0.04321289,\n",
       " 0.028808594,\n",
       " -0.024536133,\n",
       " -0.012817383,\n",
       " -0.07373047,\n",
       " -0.026000977,\n",
       " 0.048828125,\n",
       " -0.04321289,\n",
       " 0.04711914,\n",
       " 0.071777344,\n",
       " 0.07763672,\n",
       " -0.0012664795,\n",
       " 0.018920898,\n",
       " 0.010925293,\n",
       " -0.033203125,\n",
       " -0.040527344,\n",
       " -0.042236328,\n",
       " -0.020629883,\n",
       " -0.019897461,\n",
       " -0.00034332275,\n",
       " 0.011230469,\n",
       " 0.055664062,\n",
       " -0.020385742,\n",
       " -0.009155273,\n",
       " 0.044189453,\n",
       " 0.08300781,\n",
       " 0.048095703,\n",
       " 0.0026550293,\n",
       " -2.6106834e-05,\n",
       " -0.028320312,\n",
       " -0.02368164,\n",
       " 0.006134033,\n",
       " -0.017822266,\n",
       " 0.00680542,\n",
       " 3.9577484e-05,\n",
       " 0.020874023,\n",
       " 0.05810547,\n",
       " -0.010192871,\n",
       " 0.0087890625,\n",
       " -0.017578125,\n",
       " -0.030761719,\n",
       " -0.024780273,\n",
       " 0.111328125,\n",
       " -0.0040893555,\n",
       " -0.010437012,\n",
       " -0.01977539,\n",
       " 0.011474609,\n",
       " -0.0069885254,\n",
       " 0.002090454,\n",
       " -0.0072631836,\n",
       " 0.010375977,\n",
       " 0.006134033,\n",
       " -0.00680542,\n",
       " 0.00091934204,\n",
       " 0.059570312,\n",
       " 0.021240234,\n",
       " 0.013244629,\n",
       " -0.010437012,\n",
       " -0.003768921,\n",
       " -0.01928711,\n",
       " -0.036132812,\n",
       " -0.048828125,\n",
       " 0.017700195,\n",
       " 0.049560547,\n",
       " -0.022460938,\n",
       " -0.021240234,\n",
       " -0.015197754,\n",
       " -0.076171875,\n",
       " -0.0625,\n",
       " -0.02746582,\n",
       " 0.045898438,\n",
       " 0.035888672,\n",
       " -0.0077819824,\n",
       " -0.052734375,\n",
       " -0.016601562,\n",
       " -0.020507812,\n",
       " 0.0004119873,\n",
       " -0.01977539,\n",
       " 0.02758789,\n",
       " -0.020874023,\n",
       " 0.03149414,\n",
       " 0.007385254,\n",
       " 0.033691406,\n",
       " -0.05444336,\n",
       " 0.009277344,\n",
       " -0.023803711,\n",
       " -0.019165039,\n",
       " -0.04638672,\n",
       " -0.03466797,\n",
       " 0.017211914,\n",
       " 0.014343262,\n",
       " 0.010620117,\n",
       " 0.0067749023,\n",
       " 0.01965332,\n",
       " 0.007019043,\n",
       " 0.0061035156,\n",
       " -0.0015335083,\n",
       " -0.0021820068,\n",
       " 0.034179688,\n",
       " -0.0036773682,\n",
       " 0.0029754639,\n",
       " -0.0007019043,\n",
       " -0.025512695,\n",
       " -0.004333496,\n",
       " 0.024780273,\n",
       " 0.028686523,\n",
       " -0.01953125,\n",
       " -0.01550293,\n",
       " 0.0060424805,\n",
       " 0.07324219,\n",
       " -0.003479004,\n",
       " -0.004547119,\n",
       " -0.028686523,\n",
       " 0.033203125,\n",
       " 0.012939453,\n",
       " -0.06201172,\n",
       " -0.0018997192,\n",
       " -0.022460938,\n",
       " -0.0119018555,\n",
       " 0.049072266,\n",
       " 0.0058898926,\n",
       " 0.0010986328,\n",
       " 0.03857422,\n",
       " -0.031982422,\n",
       " -0.011108398,\n",
       " 0.012207031,\n",
       " -0.008728027,\n",
       " -0.036376953,\n",
       " 0.0036468506,\n",
       " 0.017822266,\n",
       " -0.026489258,\n",
       " -0.080078125,\n",
       " -0.004425049,\n",
       " 0.030639648,\n",
       " 0.005065918,\n",
       " 0.010131836,\n",
       " -0.045898438,\n",
       " 0.034423828,\n",
       " -0.043701172,\n",
       " 0.0017700195,\n",
       " 0.006286621,\n",
       " 0.06933594,\n",
       " -0.016967773,\n",
       " -0.013183594,\n",
       " 0.0066223145,\n",
       " -0.009155273,\n",
       " 0.012390137,\n",
       " 0.0046691895,\n",
       " 0.010070801,\n",
       " 0.03149414,\n",
       " -0.017822266,\n",
       " -0.030761719,\n",
       " -0.0013122559,\n",
       " -0.010131836,\n",
       " 0.0058898926,\n",
       " 0.032958984,\n",
       " -0.004699707,\n",
       " -0.017089844,\n",
       " -0.010009766,\n",
       " 0.017333984,\n",
       " 0.0028381348,\n",
       " 0.008117676,\n",
       " -0.018554688,\n",
       " -0.041259766,\n",
       " -0.021850586,\n",
       " 0.022216797,\n",
       " -0.01586914,\n",
       " 0.019897461,\n",
       " 0.010253906,\n",
       " 0.037109375,\n",
       " 0.008300781,\n",
       " -0.060546875,\n",
       " -0.033203125,\n",
       " -0.008483887,\n",
       " 0.022216797,\n",
       " 0.01965332,\n",
       " 0.096191406,\n",
       " 0.022827148,\n",
       " -0.025268555,\n",
       " 0.02368164,\n",
       " 0.017944336,\n",
       " 0.008239746,\n",
       " 0.026733398,\n",
       " 0.00340271,\n",
       " 0.0095825195,\n",
       " -0.007751465,\n",
       " 0.010437012,\n",
       " 0.014709473,\n",
       " 0.0043029785,\n",
       " -0.015625,\n",
       " 0.00680542,\n",
       " 0.013977051,\n",
       " 0.0026245117,\n",
       " 0.01373291,\n",
       " 0.0025939941,\n",
       " -0.021606445,\n",
       " 0.01940918,\n",
       " 0.014221191,\n",
       " 0.028442383,\n",
       " 0.05029297,\n",
       " 0.0028076172,\n",
       " 0.0031433105,\n",
       " -0.006225586,\n",
       " -0.013977051,\n",
       " -0.026489258,\n",
       " -0.025878906,\n",
       " -0.01586914,\n",
       " -0.045410156,\n",
       " 0.008605957,\n",
       " 0.028686523,\n",
       " 0.057617188,\n",
       " -0.0048217773,\n",
       " -0.014892578,\n",
       " -0.036621094,\n",
       " -0.012573242,\n",
       " 0.06201172,\n",
       " 0.02355957,\n",
       " -0.004272461,\n",
       " 0.040283203,\n",
       " -0.006225586,\n",
       " 0.014160156,\n",
       " 0.010253906,\n",
       " 0.022583008,\n",
       " -0.030639648,\n",
       " 0.019897461,\n",
       " 0.07080078,\n",
       " 0.016235352,\n",
       " 0.032714844,\n",
       " 0.010070801,\n",
       " -0.0068969727,\n",
       " 0.034179688,\n",
       " 0.010070801,\n",
       " 0.029418945,\n",
       " -0.03881836,\n",
       " -0.020629883,\n",
       " 0.02319336,\n",
       " 0.033447266,\n",
       " -0.036132812,\n",
       " 0.012084961,\n",
       " -0.015991211,\n",
       " -0.012756348,\n",
       " 0.05883789,\n",
       " -0.018432617,\n",
       " 0.009094238,\n",
       " 0.029541016,\n",
       " -0.040527344,\n",
       " 0.02355957,\n",
       " -0.014770508,\n",
       " -0.0023956299,\n",
       " -0.009216309,\n",
       " 0.013793945,\n",
       " 0.014892578,\n",
       " 0.026489258,\n",
       " -0.0049743652,\n",
       " 0.0030670166,\n",
       " 0.0041503906,\n",
       " -0.01928711,\n",
       " -0.03149414,\n",
       " -0.018432617,\n",
       " -0.043701172,\n",
       " 0.007598877,\n",
       " 0.013366699,\n",
       " 0.030639648,\n",
       " 0.033691406,\n",
       " -0.016967773,\n",
       " -0.024169922,\n",
       " 0.030273438,\n",
       " 0.0037384033,\n",
       " -0.012084961,\n",
       " 0.0013656616,\n",
       " 0.008972168,\n",
       " -0.05834961,\n",
       " 0.05419922,\n",
       " -0.029052734,\n",
       " -0.014770508,\n",
       " 0.05102539,\n",
       " -0.0043029785,\n",
       " 0.032470703,\n",
       " 0.008728027,\n",
       " 0.026123047,\n",
       " -0.014221191,\n",
       " ...]"
      ]
     },
     "execution_count": 22,
     "metadata": {},
     "output_type": "execute_result"
    }
   ],
   "source": [
    "import cohere\n",
    "import numpy as np\n",
    "\n",
    "co = cohere.ClientV2(api_key=api)\n",
    "# get the embeddings\n",
    "phrases = phrases\n",
    "model = \"embed-v4.0\"\n",
    "input_type = \"search_query\"\n",
    "\n",
    "res = co.embed(\n",
    "    texts=phrases,\n",
    "    model=model,\n",
    "    input_type=input_type,\n",
    "    output_dimension=1024,\n",
    "    embedding_types=[\"float\"],\n",
    ")\n",
    "\n",
    "embed = res.embeddings.float\n",
    "embed[0]"
   ]
  },
  {
   "cell_type": "code",
   "execution_count": 23,
   "id": "fcc19aa2",
   "metadata": {},
   "outputs": [
    {
     "name": "stderr",
     "output_type": "stream",
     "text": [
      "d:\\ujjwal\\Building-LLMs-for-Production\\.venv\\Lib\\site-packages\\humbug\\report.py:47: UserWarning: pkg_resources is deprecated as an API. See https://setuptools.pypa.io/en/latest/pkg_resources.html. The pkg_resources package is slated for removal as early as 2025-11-30. Refrain from using this package or pin to Setuptools<81.\n",
      "  import pkg_resources  # type: ignore\n",
      "d:\\ujjwal\\Building-LLMs-for-Production\\.venv\\Lib\\site-packages\\deeplake\\util\\check_latest_version.py:32: UserWarning: A newer version of deeplake (4.2.14) is available. It's recommended that you update to the latest version using `pip install -U deeplake`.\n",
      "  warnings.warn(\n"
     ]
    }
   ],
   "source": [
    "import deeplake"
   ]
  },
  {
   "cell_type": "code",
   "execution_count": null,
   "id": "b0c00f51",
   "metadata": {},
   "outputs": [],
   "source": [
    "from langchain.prompts.chat import (\n",
    "    ChatMessagePromptTemplate, \n",
    "    SystemMessagePromptTemplate, # this is same like role ; 'system' (Represents instructions or context provided by the \"system\" to the AI. This is like setting the stage or defining the AI's persona)\n",
    "    HumanMessagePromptTemplate ### Represents messages coming from the \"human\" user. This is typically the input the user provides\n",
    ")"
   ]
  },
  {
   "cell_type": "markdown",
   "id": "9991a8bc",
   "metadata": {},
   "source": [
    "ChatMessagePromptTemplate\n",
    "What it is: The base class for all chat message prompt templates. It's an abstract class, meaning you typically won't instantiate it directly. Instead, you'll use its specialized subclasses.\n",
    "\n",
    "Purpose: Defines the common structure for a single message within a chat sequence. This structure usually includes the message content (often templated) and the \"role\" of the sender.\n",
    "\n",
    "Key Attributes/Methods (inherited by subclasses):\n",
    "\n",
    "from_template(template: str, **kwargs): A class method to create a prompt template from a string template.\n",
    "\n",
    "format(**kwargs): Formats the prompt template with the provided input variables.\n",
    "\n",
    "input_variables: A list of variables required to format the template"
   ]
  },
  {
   "cell_type": "markdown",
   "id": "783b5ba1",
   "metadata": {},
   "source": []
  },
  {
   "cell_type": "markdown",
   "id": "23366ae9",
   "metadata": {},
   "source": [
    "SystemMessagePromptTemplate\n",
    "What it is: A subclass of ChatMessagePromptTemplate specifically for messages from the \"system.\""
   ]
  },
  {
   "cell_type": "code",
   "execution_count": null,
   "id": "c3d542c0",
   "metadata": {},
   "outputs": [],
   "source": []
  },
  {
   "cell_type": "markdown",
   "id": "fe81fe25",
   "metadata": {},
   "source": [
    "Defining AI's Role: \"You are a helpful AI assistant that answers questions about Python programming.\"\n",
    "\n",
    "Setting Constraints: \"Your responses must be no longer than 100 words and should only use technical terms.\"\n",
    "\n",
    "Providing Context: \"The following conversation is about customer support for a banking application.\"\n",
    "\n",
    "Injecting Knowledge: \"Here is some relevant documentation: [documentation content].\"\n",
    "\n"
   ]
  },
  {
   "cell_type": "markdown",
   "id": "89bcc9c8",
   "metadata": {},
   "source": []
  },
  {
   "cell_type": "code",
   "execution_count": 25,
   "id": "da6d17b7",
   "metadata": {},
   "outputs": [],
   "source": [
    "system_template = \"You are a friendly chatbot that loves to tell jokes. Always try to make the user laugh.\"\n",
    "system_message_prompt = SystemMessagePromptTemplate.from_template(system_template)"
   ]
  },
  {
   "cell_type": "code",
   "execution_count": null,
   "id": "cf1a1b23",
   "metadata": {},
   "outputs": [],
   "source": [
    "system_template = (\n",
    "    \"You are a helpful AI assistant that provides concise answers. \"\n",
    "    \"Your goal is to answer the user's questions accurately and briefly, \"\n",
    "    \"only using information you already know.\"\n",
    ")\n",
    "system_message_prompt = SystemMessagePromptTemplate.from_template(system_template)\n",
    "\n",
    "\n",
    "human_template = \"Tell me about {topic}.\"\n",
    "human_message_prompt = HumanMessagePromptTemplate.from_template(human_template)\n"
   ]
  },
  {
   "cell_type": "code",
   "execution_count": null,
   "id": "48779fc4",
   "metadata": {},
   "outputs": [],
   "source": [
    "chat_prompt = ChatPromptTemplate.from_messages([\n",
    "    system_message_prompt,\n",
    "    human_message_prompt,\n",
    "    # You could add AIMessagePromptTemplate here for few-shot examples\n",
    "])"
   ]
  },
  {
   "cell_type": "markdown",
   "id": "83e840ca",
   "metadata": {},
   "source": []
  },
  {
   "cell_type": "markdown",
   "id": "001d9c8b",
   "metadata": {},
   "source": [
    "######### Prompts templates"
   ]
  },
  {
   "cell_type": "markdown",
   "id": "b58a50bc",
   "metadata": {},
   "source": []
  },
  {
   "cell_type": "code",
   "execution_count": 30,
   "id": "e542686f",
   "metadata": {},
   "outputs": [],
   "source": [
    "from langchain.chat_models import ChatCohere , ChatOpenAI "
   ]
  },
  {
   "cell_type": "code",
   "execution_count": null,
   "id": "75f732fb",
   "metadata": {},
   "outputs": [
    {
     "data": {
      "text/plain": [
       "ChatGroq(client=<groq.resources.chat.completions.Completions object at 0x00000139A857A490>, async_client=<groq.resources.chat.completions.AsyncCompletions object at 0x00000139A8568550>, model_name='llama-3.3-70b-versatile', temperature=1e-08, model_kwargs={}, groq_api_key=SecretStr('**********'))"
      ]
     },
     "execution_count": 56,
     "metadata": {},
     "output_type": "execute_result"
    }
   ],
   "source": []
  },
  {
   "cell_type": "code",
   "execution_count": 28,
   "id": "191fc335",
   "metadata": {},
   "outputs": [],
   "source": [
    "from langchain.prompts.chat import (\n",
    "    ChatMessagePromptTemplate, \n",
    "    SystemMessagePromptTemplate,\n",
    "    HumanMessagePromptTemplate\n",
    ")"
   ]
  },
  {
   "cell_type": "code",
   "execution_count": 52,
   "id": "4fb1c12a",
   "metadata": {},
   "outputs": [],
   "source": [
    "from dotenv import load_dotenv\n",
    "\n",
    "load_dotenv() \n",
    "import os \n",
    "groq= os.getenv('groq_key')"
   ]
  },
  {
   "cell_type": "code",
   "execution_count": 57,
   "id": "7e3ddffb",
   "metadata": {},
   "outputs": [],
   "source": [
    "from langchain_groq import ChatGroq\n",
    "\n",
    "llm = ChatGroq(\n",
    "    api_key= os.getenv('Groq_key'),\n",
    "    model=\"llama-3.3-70b-versatile\",\n",
    "    temperature=0,\n",
    "    \n",
    ")"
   ]
  },
  {
   "cell_type": "code",
   "execution_count": 58,
   "id": "8977583e",
   "metadata": {},
   "outputs": [],
   "source": [
    "\n",
    "\n",
    "\n",
    "system_message_prompt = SystemMessagePromptTemplate.from_template(template)\n"
   ]
  },
  {
   "cell_type": "code",
   "execution_count": 59,
   "id": "78a4ea46",
   "metadata": {},
   "outputs": [],
   "source": [
    "# Human message template\n",
    "human_template = \"Find information about the movie {movie_title}.\"\n",
    "human_message_prompt = HumanMessagePromptTemplate.from_template(human_template)"
   ]
  },
  {
   "cell_type": "code",
   "execution_count": 60,
   "id": "2eaba13c",
   "metadata": {},
   "outputs": [],
   "source": [
    "from langchain.prompts import ChatPromptTemplate\n",
    "chat_prompt = ChatPromptTemplate.from_messages([system_message_prompt, human_message_prompt])\n",
    "\n"
   ]
  },
  {
   "cell_type": "code",
   "execution_count": 61,
   "id": "e78ea5bd",
   "metadata": {},
   "outputs": [
    {
     "data": {
      "text/plain": [
       "ChatPromptTemplate(input_variables=['movie_title'], input_types={}, partial_variables={}, messages=[SystemMessagePromptTemplate(prompt=PromptTemplate(input_variables=[], input_types={}, partial_variables={}, template='You are an assistant that helps users find information about movies.'), additional_kwargs={}), HumanMessagePromptTemplate(prompt=PromptTemplate(input_variables=['movie_title'], input_types={}, partial_variables={}, template='Find information about the movie {movie_title}.'), additional_kwargs={})])"
      ]
     },
     "execution_count": 61,
     "metadata": {},
     "output_type": "execute_result"
    }
   ],
   "source": [
    "chat_prompt"
   ]
  },
  {
   "cell_type": "code",
   "execution_count": 62,
   "id": "3da820cd",
   "metadata": {},
   "outputs": [
    {
     "data": {
      "text/plain": [
       "[SystemMessagePromptTemplate(prompt=PromptTemplate(input_variables=[], input_types={}, partial_variables={}, template='You are an assistant that helps users find information about movies.'), additional_kwargs={}),\n",
       " HumanMessagePromptTemplate(prompt=PromptTemplate(input_variables=['movie_title'], input_types={}, partial_variables={}, template='Find information about the movie {movie_title}.'), additional_kwargs={})]"
      ]
     },
     "execution_count": 62,
     "metadata": {},
     "output_type": "execute_result"
    }
   ],
   "source": [
    "chat_prompt.messages"
   ]
  },
  {
   "cell_type": "code",
   "execution_count": 63,
   "id": "4c83c04a",
   "metadata": {},
   "outputs": [
    {
     "data": {
      "text/plain": [
       "[SystemMessage(content='You are an assistant that helps users find information about movies.', additional_kwargs={}, response_metadata={}),\n",
       " HumanMessage(content='Find information about the movie Inception.', additional_kwargs={}, response_metadata={})]"
      ]
     },
     "execution_count": 63,
     "metadata": {},
     "output_type": "execute_result"
    }
   ],
   "source": [
    "chat_prompt.format_prompt(movie_title= 'Inception').to_messages()"
   ]
  },
  {
   "cell_type": "code",
   "execution_count": 65,
   "id": "4c68b813",
   "metadata": {},
   "outputs": [
    {
     "name": "stdout",
     "output_type": "stream",
     "text": [
      "**Inception (2010)**\n",
      "\n",
      "Inception is a science fiction action film written, co-produced, and directed by Christopher Nolan. The movie stars Leonardo DiCaprio, Joseph Gordon-Levitt, Ellen Page, Tom Hardy, Ken Watanabe, Dileep Rao, Cillian Murphy, Tom Berenger, and Marion Cotillard.\n",
      "\n",
      "**Plot:**\n",
      "\n",
      "The film follows Cobb (Leonardo DiCaprio), a skilled thief who specializes in entering people's dreams and stealing their secrets. Cobb is hired by a wealthy businessman named Saito (Ken Watanabe) to perform a task known as \"inception\" - planting an idea in someone's mind instead of stealing one. Saito wants Cobb to convince Robert Fischer (Cillian Murphy), the son of a dying business magnate, to dissolve his father's company.\n",
      "\n",
      "Cobb assembles a team of experts, including Arthur (Joseph Gordon-Levitt), Ariadne (Ellen Page), Eames (Tom Hardy), and Saito, to help him perform the inception. The team navigates multiple levels of dreams within dreams, facing projections of their own subconscious and external threats.\n",
      "\n",
      "**Themes:**\n",
      "\n",
      "Inception explores several themes, including:\n",
      "\n",
      "1. **Reality and Dreams**: The film blurs the lines between reality and dreams, leaving the audience questioning what is real and what is a dream.\n",
      "2. **Guilt and Redemption**: Cobb's past and his relationship with his wife, Mal (Marion Cotillard), drive the plot and his motivations.\n",
      "3. **Identity and Self**: The characters' experiences in the dream world force them to confront their own identities and selves.\n",
      "\n",
      "**Reception:**\n",
      "\n",
      "Inception received widespread critical acclaim for its original storyline, visuals, and performances. The film holds a 87% approval rating on Rotten Tomatoes, with many praising its complex and thought-provoking narrative. It was also a commercial success, grossing over $825 million worldwide.\n",
      "\n",
      "**Awards and Nominations:**\n",
      "\n",
      "Inception received eight Academy Award nominations, including Best Picture, Best Director, and Best Original Screenplay. It won four Oscars: Best Cinematography, Best Sound Editing, Best Sound Mixing, and Best Visual Effects.\n",
      "\n",
      "**Legacy:**\n",
      "\n",
      "Inception has become a cult classic and is widely regarded as one of the best films of the 2010s. Its influence can be seen in many other movies and TV shows that have explored similar themes and concepts. The film's success also cemented Christopher Nolan's status as a master filmmaker and paved the way for his future projects.\n",
      "\n",
      "I hope this information helps! Do you have any specific questions about Inception or would you like to know more about the film?\n"
     ]
    }
   ],
   "source": [
    "response= llm(chat_prompt.format_prompt(movie_title= 'Inception').to_messages()) \n",
    "print(response.content)"
   ]
  },
  {
   "cell_type": "code",
   "execution_count": null,
   "id": "696facfc",
   "metadata": {},
   "outputs": [],
   "source": []
  },
  {
   "cell_type": "markdown",
   "id": "1a3b2134",
   "metadata": {},
   "source": [
    "### Sumarization Chain "
   ]
  },
  {
   "cell_type": "code",
   "execution_count": 81,
   "id": "058fc3d0",
   "metadata": {},
   "outputs": [],
   "source": [
    "from langchain  import PromptTemplate\n",
    "from langchain.chains.summarize import load_summarize_chain \n",
    "from langchain.document_loaders import PyPDFLoader"
   ]
  },
  {
   "cell_type": "code",
   "execution_count": 82,
   "id": "02bf81ff",
   "metadata": {},
   "outputs": [
    {
     "data": {
      "text/plain": [
       "ChatGroq(client=<groq.resources.chat.completions.Completions object at 0x00000139A85CC590>, async_client=<groq.resources.chat.completions.AsyncCompletions object at 0x00000139A85CD390>, model_name='llama-3.3-70b-versatile', temperature=1e-08, model_kwargs={}, groq_api_key=SecretStr('**********'))"
      ]
     },
     "execution_count": 82,
     "metadata": {},
     "output_type": "execute_result"
    }
   ],
   "source": [
    "llm "
   ]
  },
  {
   "cell_type": "code",
   "execution_count": 83,
   "id": "dd58ed3e",
   "metadata": {},
   "outputs": [],
   "source": [
    "# load summarization \n",
    "sumarize_chain= load_summarize_chain(llm = llm , )"
   ]
  },
  {
   "cell_type": "code",
   "execution_count": 90,
   "id": "09c32938",
   "metadata": {},
   "outputs": [],
   "source": [
    "file_path = r\"C:/Users/ujjwal/Downloads/Get_Started_With_Smallpdf.pdf\"\n",
    "document_loader = PyPDFLoader(file_path)\n"
   ]
  },
  {
   "cell_type": "code",
   "execution_count": 91,
   "id": "b5084133",
   "metadata": {},
   "outputs": [
    {
     "data": {
      "text/plain": [
       "<langchain_community.document_loaders.pdf.PyPDFLoader at 0x139ac015050>"
      ]
     },
     "execution_count": 91,
     "metadata": {},
     "output_type": "execute_result"
    }
   ],
   "source": [
    "document_loader"
   ]
  },
  {
   "cell_type": "code",
   "execution_count": 92,
   "id": "0185efe6",
   "metadata": {},
   "outputs": [],
   "source": [
    "document = document_loader.load()"
   ]
  },
  {
   "cell_type": "code",
   "execution_count": 93,
   "id": "4dab9dc9",
   "metadata": {},
   "outputs": [
    {
     "data": {
      "text/plain": [
       "[Document(metadata={'producer': 'Adobe PDF Library 15.0', 'creator': 'Adobe InDesign 15.1 (Macintosh)', 'creationdate': '2020-10-14T17:08:10+02:00', 'moddate': '2020-10-14T17:08:10+02:00', 'trapped': '/False', 'source': 'C:/Users/ujjwal/Downloads/Get_Started_With_Smallpdf.pdf', 'total_pages': 1, 'page': 0, 'page_label': '1'}, page_content='Welcome to Smallpdf\\nDigital Documents—All In One Place\\nAccess Files Anytime, Anywhere \\nEnhance Documents in One Click \\nCollaborate With Others \\nWith the new Smallpdf experience, you can \\nfreely upload, organize, and share digital \\ndocuments. When you enable the ‘Storage’ \\noption, we’ll also store all processed files here. \\nYou can access files stored on Smallpdf from \\nyour computer, phone, or tablet. We’ll also \\nsync files from the Smallpdf Mobile App to our \\nonline portal\\nWhen you right-click on a file, we’ll present \\nyou with an array of options to convert, \\ncompress, or modify it. \\nForget mundane administrative tasks. With \\nSmallpdf, you can request e-signatures, send \\nlarge files, or even enable the Smallpdf G Suite \\nApp for your entire organization. \\nReady to take document management to the next level?')]"
      ]
     },
     "execution_count": 93,
     "metadata": {},
     "output_type": "execute_result"
    }
   ],
   "source": [
    "document"
   ]
  },
  {
   "cell_type": "code",
   "execution_count": 94,
   "id": "9ea119a8",
   "metadata": {},
   "outputs": [
    {
     "data": {
      "text/plain": [
       "{'input_documents': [Document(metadata={'producer': 'Adobe PDF Library 15.0', 'creator': 'Adobe InDesign 15.1 (Macintosh)', 'creationdate': '2020-10-14T17:08:10+02:00', 'moddate': '2020-10-14T17:08:10+02:00', 'trapped': '/False', 'source': 'C:/Users/ujjwal/Downloads/Get_Started_With_Smallpdf.pdf', 'total_pages': 1, 'page': 0, 'page_label': '1'}, page_content='Welcome to Smallpdf\\nDigital Documents—All In One Place\\nAccess Files Anytime, Anywhere \\nEnhance Documents in One Click \\nCollaborate With Others \\nWith the new Smallpdf experience, you can \\nfreely upload, organize, and share digital \\ndocuments. When you enable the ‘Storage’ \\noption, we’ll also store all processed files here. \\nYou can access files stored on Smallpdf from \\nyour computer, phone, or tablet. We’ll also \\nsync files from the Smallpdf Mobile App to our \\nonline portal\\nWhen you right-click on a file, we’ll present \\nyou with an array of options to convert, \\ncompress, or modify it. \\nForget mundane administrative tasks. With \\nSmallpdf, you can request e-signatures, send \\nlarge files, or even enable the Smallpdf G Suite \\nApp for your entire organization. \\nReady to take document management to the next level?')],\n",
       " 'output_text': 'Smallpdf is a digital document management platform that allows users to upload, organize, and share files from anywhere, with features to enhance and collaborate on documents, as well as request e-signatures and sync files across devices.'}"
      ]
     },
     "execution_count": 94,
     "metadata": {},
     "output_type": "execute_result"
    }
   ],
   "source": [
    "## sumarize the documents\n",
    "\n",
    "\n",
    "sumarize_chain(document)"
   ]
  },
  {
   "cell_type": "code",
   "execution_count": 95,
   "id": "27adbf31",
   "metadata": {},
   "outputs": [
    {
     "data": {
      "text/plain": [
       "'Smallpdf is a digital document management platform that allows users to upload, organize, and share files from anywhere, with features to enhance and collaborate on documents, as well as request e-signatures and sync files across devices.'"
      ]
     },
     "execution_count": 95,
     "metadata": {},
     "output_type": "execute_result"
    }
   ],
   "source": [
    "\n",
    "sumarize_chain(document)['output_text']"
   ]
  },
  {
   "cell_type": "code",
   "execution_count": null,
   "id": "4ce2b55b",
   "metadata": {},
   "outputs": [],
   "source": []
  }
 ],
 "metadata": {
  "kernelspec": {
   "display_name": "Building-LLMs-for-Production",
   "language": "python",
   "name": "python3"
  },
  "language_info": {
   "codemirror_mode": {
    "name": "ipython",
    "version": 3
   },
   "file_extension": ".py",
   "mimetype": "text/x-python",
   "name": "python",
   "nbconvert_exporter": "python",
   "pygments_lexer": "ipython3",
   "version": "3.11.8"
  }
 },
 "nbformat": 4,
 "nbformat_minor": 5
}

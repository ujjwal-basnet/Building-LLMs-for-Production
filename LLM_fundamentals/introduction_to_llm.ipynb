{
 "cells": [
  {
   "cell_type": "code",
   "execution_count": 1,
   "id": "c875ef12",
   "metadata": {},
   "outputs": [
    {
     "data": {
      "text/plain": [
       "True"
      ]
     },
     "execution_count": 1,
     "metadata": {},
     "output_type": "execute_result"
    }
   ],
   "source": [
    "from dotenv import load_dotenv \n",
    "\n",
    "load_dotenv() "
   ]
  },
  {
   "cell_type": "code",
   "execution_count": null,
   "id": "a20ff3c5",
   "metadata": {},
   "outputs": [],
   "source": [
    "from dotenv import load_dotenv \n",
    "load_dotenv()\n",
    "import os \n",
    "import openai \n",
    "## english text to translate \n",
    "english_text =\"Hellow , how are you\"\n",
    "\n",
    "response= openai.ChatCompletion.create(\n",
    "    model= \"gpt-\"\n",
    ")"
   ]
  },
  {
   "cell_type": "code",
   "execution_count": 6,
   "id": "590d3f3c",
   "metadata": {},
   "outputs": [],
   "source": [
    "# Prompt for summarization\n",
    "prompt = \"Describe the following movie using emojis. {movie}:\"\n",
    "\n",
    "examples = [\n",
    "    {\"input\": \"Titanic\", \"output\": \"❤\"},\n",
    "    {\"input\": \"The Matrix\", \"output\": \"🕶️💊\"}\n",
    "]\n"
   ]
  },
  {
   "cell_type": "code",
   "execution_count": 8,
   "id": "1e09937c",
   "metadata": {},
   "outputs": [
    {
     "data": {
      "text/plain": [
       "'Describe the following movie using emojis. Titanic:'"
      ]
     },
     "execution_count": 8,
     "metadata": {},
     "output_type": "execute_result"
    }
   ],
   "source": [
    "prompt.format(movie= examples[0]['input'])"
   ]
  },
  {
   "cell_type": "code",
   "execution_count": 7,
   "id": "ce509734",
   "metadata": {},
   "outputs": [
    {
     "name": "stdout",
     "output_type": "stream",
     "text": [
      "Hidden vector: tensor([[[-0.3172, -0.1366,  0.0658]]], grad_fn=<StackBackward0>)\n"
     ]
    }
   ],
   "source": [
    "import torch\n",
    "import torch.nn as nn\n",
    "\n",
    "# 1. Model\n",
    "class Encoder(nn.Module):\n",
    "    def __init__(self, vocab_size, embed_size, hidden_size):\n",
    "        super().__init__()\n",
    "        self.embedding = nn.Embedding(vocab_size, embed_size)\n",
    "        self.lstm = nn.LSTM(embed_size, hidden_size, batch_first=True)\n",
    "\n",
    "    def forward(self, input_seq):\n",
    "        embedded = self.embedding(input_seq)\n",
    "        _, (hidden, cell) = self.lstm(embedded)\n",
    "        return hidden, cell\n",
    "\n",
    "# 2. Tokenize\n",
    "sentence = \"hello my name is ujjwal basnet\".split()\n",
    "vocab = {word: idx for idx, word in enumerate(set(sentence))}\n",
    "token_ids = [vocab[word] for word in sentence]\n",
    "input_tensor = torch.tensor([token_ids])  # [1, seq_len]\n",
    "\n",
    "# 3. Run Encoder\n",
    "vocab_size = len(vocab)\n",
    "embed_size = 3\n",
    "hidden_size = 3\n",
    "\n",
    "encoder = Encoder(vocab_size, embed_size, hidden_size)\n",
    "hidden, cell = encoder(input_tensor)\n",
    "\n",
    "print(\"Hidden vector:\", hidden)\n"
   ]
  },
  {
   "cell_type": "code",
   "execution_count": 21,
   "id": "ab26f5b5",
   "metadata": {},
   "outputs": [
    {
     "data": {
      "text/plain": [
       "['Hi', 'my', 'name', 'is', 'Ujjwal']"
      ]
     },
     "execution_count": 21,
     "metadata": {},
     "output_type": "execute_result"
    }
   ],
   "source": [
    "sentence = \"Hi my name is Ujjwal\".split()\n",
    "sentence"
   ]
  },
  {
   "cell_type": "code",
   "execution_count": 23,
   "id": "f9b3fbec",
   "metadata": {},
   "outputs": [
    {
     "data": {
      "text/plain": [
       "{'is': 0, 'my': 1, 'name': 2, 'Hi': 3, 'Ujjwal': 4}"
      ]
     },
     "execution_count": 23,
     "metadata": {},
     "output_type": "execute_result"
    }
   ],
   "source": [
    "vocab= {word: id for id , word in enumerate(set(sentence))}\n",
    "vocab"
   ]
  },
  {
   "cell_type": "code",
   "execution_count": 24,
   "id": "95086dcc",
   "metadata": {},
   "outputs": [
    {
     "data": {
      "text/plain": [
       "[3, 1, 2, 0, 4]"
      ]
     },
     "execution_count": 24,
     "metadata": {},
     "output_type": "execute_result"
    }
   ],
   "source": [
    "token = [vocab[word] for word in sentence]\n",
    "token"
   ]
  },
  {
   "cell_type": "code",
   "execution_count": null,
   "id": "f2123284",
   "metadata": {},
   "outputs": [
    {
     "data": {
      "text/plain": [
       "tensor([3, 1, 2, 0, 4])"
      ]
     },
     "execution_count": 26,
     "metadata": {},
     "output_type": "execute_result"
    }
   ],
   "source": [
    "#convert inot tensor\n",
    "token_id_tensor = torch.tensor(data = token)\n",
    "token_id_tensor"
   ]
  },
  {
   "cell_type": "code",
   "execution_count": 30,
   "id": "e46eb369",
   "metadata": {},
   "outputs": [
    {
     "data": {
      "text/plain": [
       "5"
      ]
     },
     "execution_count": 30,
     "metadata": {},
     "output_type": "execute_result"
    }
   ],
   "source": [
    "vocab_len"
   ]
  },
  {
   "cell_type": "code",
   "execution_count": 31,
   "id": "208d20bc",
   "metadata": {},
   "outputs": [],
   "source": [
    "vocab_len= len(vocab)\n",
    "embde_size= 8\n",
    "hidden_state= 4 \n",
    "\n"
   ]
  },
  {
   "cell_type": "code",
   "execution_count": 43,
   "id": "f06407dd",
   "metadata": {},
   "outputs": [],
   "source": [
    "embedding = nn.Embedding(num_embeddings= vocab_len , embedding_dim= embde_size)\n",
    "embedding= embedding(token_id_tensor)"
   ]
  },
  {
   "cell_type": "code",
   "execution_count": 45,
   "id": "bf3e63e9",
   "metadata": {},
   "outputs": [
    {
     "data": {
      "text/plain": [
       "tensor([ 0.1918, -0.4736,  0.5541, -0.0339, -1.8716,  0.4641, -1.4603, -0.2889],\n",
       "       grad_fn=<SelectBackward0>)"
      ]
     },
     "execution_count": 45,
     "metadata": {},
     "output_type": "execute_result"
    }
   ],
   "source": [
    "embedding[0]"
   ]
  },
  {
   "cell_type": "code",
   "execution_count": 35,
   "id": "86c1d615",
   "metadata": {},
   "outputs": [],
   "source": [
    "## CALCULATING SIMILARITIE COSIN "
   ]
  },
  {
   "cell_type": "code",
   "execution_count": 103,
   "id": "0896785b",
   "metadata": {},
   "outputs": [
    {
     "data": {
      "text/plain": [
       "[['I', 'love', 'cats'],\n",
       " ['I', 'love', 'dogs'],\n",
       " ['We', 'love', 'cats'],\n",
       " ['We', 'all', 'dogs']]"
      ]
     },
     "execution_count": 103,
     "metadata": {},
     "output_type": "execute_result"
    }
   ],
   "source": [
    "sentences"
   ]
  },
  {
   "cell_type": "code",
   "execution_count": 112,
   "id": "9bef6d98",
   "metadata": {},
   "outputs": [],
   "source": [
    "word2idx = {}\n",
    "idx2word= {}\n",
    "idx= 0\n",
    "for sentence in sentences: \n",
    "    for word in sentence:\n",
    "        if word not in word2idx:\n",
    "            word2idx[word]= idx\n",
    "            idx2word[idx]= word \n",
    "            idx +=1"
   ]
  },
  {
   "cell_type": "code",
   "execution_count": 113,
   "id": "588666c0",
   "metadata": {},
   "outputs": [],
   "source": [
    "for token in ['<PAD>', '<UNK>']:\n",
    "    if token not in word2idx:\n",
    "        word2idx[token] = idx\n",
    "        idx2word[idx] = token\n",
    "        idx += 1\n"
   ]
  },
  {
   "cell_type": "code",
   "execution_count": null,
   "id": "d6e42cd9",
   "metadata": {},
   "outputs": [
    {
     "data": {
      "text/plain": [
       "'dogs'"
      ]
     },
     "execution_count": 116,
     "metadata": {},
     "output_type": "execute_result"
    }
   ],
   "source": []
  },
  {
   "cell_type": "code",
   "execution_count": 115,
   "id": "a91f2b6b",
   "metadata": {},
   "outputs": [
    {
     "data": {
      "text/plain": [
       "3"
      ]
     },
     "execution_count": 115,
     "metadata": {},
     "output_type": "execute_result"
    }
   ],
   "source": [
    "word2idx.get(word)"
   ]
  },
  {
   "cell_type": "code",
   "execution_count": null,
   "id": "c869baca",
   "metadata": {},
   "outputs": [],
   "source": []
  },
  {
   "cell_type": "code",
   "execution_count": 108,
   "id": "7355b83d",
   "metadata": {},
   "outputs": [
    {
     "data": {
      "text/plain": [
       "[['I', 'love', 'cats'],\n",
       " ['I', 'love', 'dogs'],\n",
       " ['We', 'love', 'cats'],\n",
       " ['We', 'all', 'dogs']]"
      ]
     },
     "execution_count": 108,
     "metadata": {},
     "output_type": "execute_result"
    }
   ],
   "source": [
    "sentences"
   ]
  },
  {
   "cell_type": "code",
   "execution_count": 106,
   "id": "b912d818",
   "metadata": {},
   "outputs": [
    {
     "data": {
      "text/plain": [
       "{'I': 0, 'love': 1, 'cats': 2, 'dogs': 3, 'We': 4, 'all': 5}"
      ]
     },
     "execution_count": 106,
     "metadata": {},
     "output_type": "execute_result"
    }
   ],
   "source": [
    "word2idx"
   ]
  },
  {
   "cell_type": "code",
   "execution_count": 75,
   "id": "354f423f",
   "metadata": {},
   "outputs": [],
   "source": [
    "sentences = [\n",
    "    [\"I\", \"love\", \"cats\"],\n",
    "    [\"I\", \"love\", \"dogs\"],\n",
    "    [\"We\", \"love\", \"cats\"],\n",
    "    [\"We\", \"all\", \"dogs\"]\n",
    "]\n"
   ]
  },
  {
   "cell_type": "code",
   "execution_count": 92,
   "id": "6ba4aca8",
   "metadata": {},
   "outputs": [],
   "source": [
    "import numpy as np"
   ]
  },
  {
   "cell_type": "code",
   "execution_count": 94,
   "id": "b08efe55",
   "metadata": {},
   "outputs": [],
   "source": [
    "aray= np.asarray(sentences)"
   ]
  },
  {
   "cell_type": "code",
   "execution_count": null,
   "id": "7ccf9e38",
   "metadata": {},
   "outputs": [
    {
     "ename": "TypeError",
     "evalue": "'module' object is not callable",
     "output_type": "error",
     "traceback": [
      "\u001b[31m---------------------------------------------------------------------------\u001b[39m",
      "\u001b[31mTypeError\u001b[39m                                 Traceback (most recent call last)",
      "\u001b[36mCell\u001b[39m\u001b[36m \u001b[39m\u001b[32mIn[102]\u001b[39m\u001b[32m, line 1\u001b[39m\n\u001b[32m----> \u001b[39m\u001b[32m1\u001b[39m \u001b[43mtorch\u001b[49m\u001b[43m(\u001b[49m\u001b[43msentences\u001b[49m\u001b[43m)\u001b[49m\n",
      "\u001b[31mTypeError\u001b[39m: 'module' object is not callable"
     ]
    }
   ],
   "source": []
  },
  {
   "cell_type": "code",
   "execution_count": 100,
   "id": "25a85252",
   "metadata": {},
   "outputs": [
    {
     "data": {
      "text/plain": [
       "array(['I', 'love', 'cats', 'I', 'love', 'dogs', 'We', 'love', 'cats',\n",
       "       'We', 'all', 'dogs'], dtype='<U4')"
      ]
     },
     "execution_count": 100,
     "metadata": {},
     "output_type": "execute_result"
    }
   ],
   "source": [
    "((aray.flatten()))"
   ]
  },
  {
   "cell_type": "code",
   "execution_count": null,
   "id": "4a1c7805",
   "metadata": {},
   "outputs": [],
   "source": []
  },
  {
   "cell_type": "code",
   "execution_count": 54,
   "id": "e61b7f69",
   "metadata": {},
   "outputs": [
    {
     "data": {
      "text/plain": [
       "tensor([-0.3595], grad_fn=<SumBackward1>)"
      ]
     },
     "execution_count": 54,
     "metadata": {},
     "output_type": "execute_result"
    }
   ],
   "source": [
    "cosine_similarity(embedding[0].unsqueeze(0) , embedding[1].unsqueeze(0))"
   ]
  },
  {
   "cell_type": "code",
   "execution_count": 70,
   "id": "8e2783cd",
   "metadata": {},
   "outputs": [],
   "source": [
    "similarities = {}\n",
    "for i in range(len(token)):\n",
    "    j_list = []  # Initialize j_list inside the outer loop to reset per i\n",
    "    for j in range(len(token)):\n",
    "        if j == i:\n",
    "            continue\n",
    "        else:\n",
    "            similarity = cosine_similarity(embedding[i].unsqueeze(0), embedding[j].unsqueeze(0))\n",
    "            j_list.append(similarity.item())  # Append to j_list, no assignment needed\n",
    "    similarities[i] = j_list  # Assign list after inner loop completes\n"
   ]
  },
  {
   "cell_type": "code",
   "execution_count": null,
   "id": "7535308c",
   "metadata": {},
   "outputs": [],
   "source": []
  },
  {
   "cell_type": "code",
   "execution_count": 71,
   "id": "0bb585f7",
   "metadata": {},
   "outputs": [
    {
     "data": {
      "text/plain": [
       "{0: [-0.3594808280467987,\n",
       "  0.29179155826568604,\n",
       "  0.5593845248222351,\n",
       "  -0.7663167715072632],\n",
       " 1: [-0.3594808280467987,\n",
       "  -0.4311680495738983,\n",
       "  0.3233092427253723,\n",
       "  0.6723902225494385],\n",
       " 2: [0.29179155826568604,\n",
       "  -0.4311680495738983,\n",
       "  -0.32815033197402954,\n",
       "  -0.3414401113986969],\n",
       " 3: [0.5593845248222351,\n",
       "  0.3233092427253723,\n",
       "  -0.32815033197402954,\n",
       "  -0.3987118601799011],\n",
       " 4: [-0.7663167715072632,\n",
       "  0.6723902225494385,\n",
       "  -0.3414401113986969,\n",
       "  -0.3987118601799011]}"
      ]
     },
     "execution_count": 71,
     "metadata": {},
     "output_type": "execute_result"
    }
   ],
   "source": [
    "## find the embedding of the \n",
    "similarities"
   ]
  },
  {
   "cell_type": "code",
   "execution_count": 73,
   "id": "bad25751",
   "metadata": {},
   "outputs": [
    {
     "data": {
      "text/plain": [
       "tensor([3, 1, 2, 0, 4])"
      ]
     },
     "execution_count": 73,
     "metadata": {},
     "output_type": "execute_result"
    }
   ],
   "source": [
    "token_id_tensor"
   ]
  },
  {
   "cell_type": "code",
   "execution_count": 74,
   "id": "a4636169",
   "metadata": {},
   "outputs": [
    {
     "data": {
      "text/plain": [
       "{'is': 0, 'my': 1, 'name': 2, 'Hi': 3, 'Ujjwal': 4}"
      ]
     },
     "execution_count": 74,
     "metadata": {},
     "output_type": "execute_result"
    }
   ],
   "source": [
    "vocab"
   ]
  },
  {
   "cell_type": "code",
   "execution_count": 72,
   "id": "4e26659e",
   "metadata": {},
   "outputs": [
    {
     "data": {
      "text/plain": [
       "['Hi', 'my', 'name', 'is', 'Ujjwal']"
      ]
     },
     "execution_count": 72,
     "metadata": {},
     "output_type": "execute_result"
    }
   ],
   "source": [
    "sentence"
   ]
  },
  {
   "cell_type": "code",
   "execution_count": null,
   "id": "111cd3c9",
   "metadata": {},
   "outputs": [],
   "source": []
  }
 ],
 "metadata": {
  "kernelspec": {
   "display_name": "ml",
   "language": "python",
   "name": "python3"
  },
  "language_info": {
   "codemirror_mode": {
    "name": "ipython",
    "version": 3
   },
   "file_extension": ".py",
   "mimetype": "text/x-python",
   "name": "python",
   "nbconvert_exporter": "python",
   "pygments_lexer": "ipython3",
   "version": "3.12.10"
  }
 },
 "nbformat": 4,
 "nbformat_minor": 5
}
